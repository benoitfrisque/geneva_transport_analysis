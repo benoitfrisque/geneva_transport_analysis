{
 "cells": [
  {
   "cell_type": "code",
   "execution_count": 1,
   "id": "bae2a877-7a89-4ffc-8848-ab6c10f342d4",
   "metadata": {
    "tags": [
     "parameters"
    ]
   },
   "outputs": [],
   "source": [
    "flex_title = \"Dahsboard Transports Genevois\"\n",
    "flex_subtitle = \"built using jupyter-flex\"\n",
    "flex_external_link = \"https://github.com/benoitfrisque/geneva_transport_analysis\"\n",
    "\n",
    "flex_include_source = True\n",
    "flex_custom_css = \"custom.css\"\n",
    "# flex_orientation = \"rows\""
   ]
  },
  {
   "cell_type": "markdown",
   "id": "3c094e6d-e8e2-4885-b5a0-7ba9233d55c8",
   "metadata": {
    "tags": []
   },
   "source": [
    "# Nombre de montées par arrêt"
   ]
  },
  {
   "cell_type": "markdown",
   "id": "5a15eaec-6e90-40bb-9d72-f530c27aa67a",
   "metadata": {
    "tags": [
     "sidebar",
     "size=2"
    ]
   },
   "source": [
    "## Sidebar"
   ]
  },
  {
   "cell_type": "code",
   "execution_count": 2,
   "id": "32bd18b8-acc5-43fe-9667-5c3827efb6d0",
   "metadata": {
    "tags": [
     "source"
    ]
   },
   "outputs": [],
   "source": [
    "import pandas as pd\n",
    "import numpy as np\n",
    "import requests\n",
    "\n",
    "import folium\n",
    "from folium.plugins import MarkerCluster\n",
    "from IPython.display import clear_output, display, HTML\n",
    "\n",
    "# import ipywidgets as widgets\n",
    "from ipywidgets import widgets, Layout\n",
    "import plotly.express as px\n",
    "import plotly.graph_objects as go\n",
    "\n",
    "from geopy.distance import geodesic"
   ]
  },
  {
   "cell_type": "markdown",
   "id": "70eaa93b-0fd7-48e5-93cd-5772399bad82",
   "metadata": {
    "tags": [
     "body"
    ]
   },
   "source": [
    "Sélectionnez un mois :"
   ]
  },
  {
   "cell_type": "code",
   "execution_count": 3,
   "id": "9da0e129-da0b-4ef0-a87c-7fc8f5bfa5c9",
   "metadata": {
    "tags": [
     "source"
    ]
   },
   "outputs": [],
   "source": [
    "def fetch_first_date_montees():\n",
    "    base_url = 'https://opendata.tpg.ch/api/explore/v2.1/catalog/'\n",
    "    endpoint = 'datasets/montees-par-arret-par-ligne/records'\n",
    "    url = base_url + endpoint\n",
    "\n",
    "    params = {\n",
    "        \"select\": \"MIN(date), MAX(date)\",\n",
    "        \"limit\" : \"1\"\n",
    "    }\n",
    "\n",
    "    # Fetch data from the API endpoint\n",
    "    response = requests.get(url, params=params)\n",
    "    response = response.json()\n",
    "\n",
    "    records = response['results']\n",
    "\n",
    "    min_date = pd.to_datetime(records[0]['MIN(date)'])\n",
    "    max_date = pd.to_datetime(records[0]['MAX(date)'])\n",
    "    \n",
    "    return min_date, max_date"
   ]
  },
  {
   "cell_type": "code",
   "execution_count": 4,
   "id": "6da1adaf-e47c-4f87-90ee-0f0a7e7a1c18",
   "metadata": {
    "tags": [
     "body"
    ]
   },
   "outputs": [
    {
     "data": {
      "application/vnd.jupyter.widget-view+json": {
       "model_id": "1e74d1c831924abc8724acdd18cd8fc8",
       "version_major": 2,
       "version_minor": 0
      },
      "text/plain": [
       "VBox(children=(Dropdown(options=(('August 2021', Timestamp('2021-08-01 00:00:00+0000', tz='UTC', freq='MS')), …"
      ]
     },
     "metadata": {},
     "output_type": "display_data"
    }
   ],
   "source": [
    "# Define the default start and end dates\n",
    "slider_start_date, slider_end_date = fetch_first_date_montees()\n",
    "\n",
    "slider_dates = pd.date_range(slider_start_date, slider_end_date, freq='MS')\n",
    "slider_options = [(date.strftime('%B %Y'), date) for date in slider_dates]\n",
    "\n",
    "# Create a dropdown widget for selecting the month\n",
    "month_dropdown = widgets.Dropdown(\n",
    "    options=slider_options,\n",
    "    index=0\n",
    ")\n",
    "\n",
    "\n",
    "# Create a play button widget\n",
    "play_button = widgets.Play(\n",
    "    value=0,\n",
    "    min=0,\n",
    "    max=len(slider_options) - 1,\n",
    "    step=1,\n",
    "    interval=1500,  # Interval in milliseconds\n",
    "    description=\"Défiler les mois\",\n",
    "    disabled=False\n",
    ")\n",
    "\n",
    "# Link the play button to the dropdown index\n",
    "widgets.jslink((play_button, 'value'), (month_dropdown, 'index'))\n",
    "\n",
    "# Display widgets\n",
    "display(widgets.VBox([ month_dropdown, play_button]))"
   ]
  },
  {
   "cell_type": "markdown",
   "id": "405592de-459a-44f4-9fd8-a5585ea789a9",
   "metadata": {
    "tags": [
     "footer"
    ]
   },
   "source": [
    "<small>Les données proviennent de la [Plateforme Open Data des Transports Publics Genevois (tpg)](https://opendata.tpg.ch/).</small>\n"
   ]
  },
  {
   "cell_type": "code",
   "execution_count": 5,
   "id": "13ec0ec0-a459-4eb7-9cdf-152fedf40b0c",
   "metadata": {
    "tags": [
     "source"
    ]
   },
   "outputs": [],
   "source": [
    "# Load stops\n",
    "\n",
    "# Option 1 : load stops data from API\n",
    "def fetch_arrets():\n",
    "    # API URL for the stops\n",
    "    base_url = 'https://opendata.tpg.ch/api/explore/v2.1/catalog/'\n",
    "    endpoint = 'datasets/arrets/records'\n",
    "    url = base_url + endpoint\n",
    "\n",
    "    # Query parameters\n",
    "    offset = 0\n",
    "    limit = 100\n",
    "    select = \"arretcodelong AS arret_code_long, nomarret as nom_arret, commune, pays, coordonnees, actif\"\n",
    "    where = \"\" #\"actif='Y'\"\n",
    "\n",
    "    all_records = []\n",
    "\n",
    "    while True:\n",
    "        params = {\n",
    "            \"limit\": limit,\n",
    "            \"offset\": offset,\n",
    "            \"select\": select,\n",
    "            \"where\": where\n",
    "        }\n",
    "\n",
    "        # Fetch data from the API endpoint\n",
    "        response = requests.get(url, params=params)\n",
    "        response = response.json()\n",
    "\n",
    "        total_count = response['total_count']\n",
    "        records = response['results']\n",
    "\n",
    "        all_records.extend(records)\n",
    "\n",
    "        # Increment the offset for the next request\n",
    "        offset += len(records)\n",
    "\n",
    "        # Break the loop if all records have been fetched\n",
    "        if offset >= total_count:\n",
    "        #if offset >=1: # for debugging\n",
    "            break\n",
    "\n",
    "    # Convert all_records to a DataFrame\n",
    "    data_arrets = pd.json_normalize(all_records)\n",
    "    data_arrets.drop(columns='coordonnees', inplace=True)\n",
    "    data_arrets.rename(columns={'coordonnees.lon': 'coordonnees_lon', 'coordonnees.lat': 'coordonnees_lat'}, inplace=True)\n",
    "\n",
    "    data_arrets.fillna(value=np.nan, inplace=True)\n",
    "    \n",
    "    return data_arrets\n",
    "\n",
    "\n",
    "# Option 2 : load stops data from file (faster)\n",
    "def load_arrets(filepath):\n",
    "    data_arrets = pd.read_json(filepath)\n",
    "\n",
    "    # Transform coordinates\n",
    "    data_arrets[\"coordonnees_lon\"] = data_arrets[\"coordonnees\"].apply(lambda x : x['lon'] if x is not None else None)\n",
    "    data_arrets[\"coordonnees_lat\"] = data_arrets[\"coordonnees\"].apply(lambda x : x['lat'] if x is not None else None)\n",
    "    data_arrets.drop(columns='coordonnees', inplace=True)\n",
    "    data_arrets.rename(columns={'arretcodelong': 'arret_code_long', 'nomarret': 'nom_arret'}, inplace=True)\n",
    "\n",
    "    data_arrets.fillna(value=np.nan, inplace=True)\n",
    "    \n",
    "    return data_arrets\n",
    "\n",
    "\n",
    "# data_arrets = fetch_arrets()\n",
    "\n",
    "arrets_filepath = '../data/arrets.json'\n",
    "data_arrets = load_arrets(arrets_filepath)\n",
    "\n",
    "data_arrets_actifs = data_arrets[data_arrets['actif'] == 'Y']"
   ]
  },
  {
   "cell_type": "markdown",
   "id": "4d8f8b96-fe06-42b2-a607-239fdfcc246b",
   "metadata": {},
   "source": [
    "## Colonne 1"
   ]
  },
  {
   "cell_type": "markdown",
   "id": "e787080e-f652-4dfd-ad6c-76f42e04b748",
   "metadata": {
    "tags": []
   },
   "source": [
    "### Nombre de montées par arrêt (heatmap)"
   ]
  },
  {
   "cell_type": "code",
   "execution_count": 6,
   "id": "c45e767a-2119-41e6-b72b-b6d35e4b7e75",
   "metadata": {
    "tags": [
     "source"
    ]
   },
   "outputs": [],
   "source": [
    "def fetch_nb_montees_par_arret(start_date, end_date):\n",
    "    # API URL\n",
    "    base_url = 'https://opendata.tpg.ch/api/explore/v2.1/catalog/'\n",
    "    endpoint = 'datasets/montees-par-arret-par-ligne/records'\n",
    "    url = base_url + endpoint\n",
    "\n",
    "    start_date = pd.to_datetime(start_date)\n",
    "    end_date = pd.to_datetime(end_date)\n",
    "\n",
    "    # Query parameters\n",
    "    offset = 0\n",
    "    limit = -1\n",
    "    select = \"SUM(nb_de_montees) AS total_nb_de_montees\"\n",
    "    where = f\"date >= '{start_date.strftime('%Y-%m-%d')}' AND date <= '{end_date.strftime('%Y-%m-%d')}'\"\n",
    "    group_by = \"arret_code_long\"\n",
    "    order_by = \"total_nb_de_montees DESC\"\n",
    "\n",
    "    params = {\n",
    "        \"select\": select,\n",
    "        \"where\": where,\n",
    "        \"group_by\": group_by,\n",
    "        \"order_by\": order_by,\n",
    "        \"limit\": limit,\n",
    "        \"offset\": offset,\n",
    "    }\n",
    "\n",
    "    # Fetch data from the API endpoint\n",
    "    response = requests.get(url, params=params)\n",
    "    response = response.json()\n",
    "\n",
    "    records = response['results']\n",
    "\n",
    "    # Convert all_records to a DataFrame\n",
    "    total_montees_par_arret = pd.json_normalize(records)\n",
    "\n",
    "    total_montees_par_arret.fillna(value=np.nan, inplace=True)\n",
    "\n",
    "    return total_montees_par_arret"
   ]
  },
  {
   "cell_type": "code",
   "execution_count": 7,
   "id": "e3b20d84-4ef1-43f4-8e32-d94bf6f61cfd",
   "metadata": {},
   "outputs": [],
   "source": [
    "def plot_heatmap_nb_montees(total_montees_descentes_par_arret, out):\n",
    "    with out:\n",
    "        fig = px.density_mapbox(total_montees_descentes_par_arret,\n",
    "                                lat='coordonnees_lat',\n",
    "                                lon='coordonnees_lon',\n",
    "                                z='total_nb_de_montees',\n",
    "                                range_color=[0, 350e3], # fixed range for the animation\n",
    "                                hover_name='arret_code_long',\n",
    "                                hover_data=['nom_arret', 'commune', 'pays'],\n",
    "                                radius=20,\n",
    "                                center=dict(lat=46.2044, lon=6.1432),\n",
    "                                zoom=11,\n",
    "                                mapbox_style=\"open-street-map\",\n",
    "                                labels={'nom_arret':'Nom arrêt', 'total_nb_de_montees': 'Total Montees', 'arret_code_long': 'Code Arrêt', 'commune':'Commune', 'pays': 'Pays',\n",
    "                                       'coordonnees_lon': 'Longitude', 'coordonnees_lat': 'Latitude'}\n",
    "                               )\n",
    "        \n",
    "        fig.update_layout(margin=go.layout.Margin(l=0, r=0, b=0, t=0))\n",
    "        \n",
    "        clear_output(wait=True)\n",
    "        fig.show()\n"
   ]
  },
  {
   "cell_type": "code",
   "execution_count": 8,
   "id": "6a0bcf15-e2c8-4840-ba67-6f50788d2fdc",
   "metadata": {
    "tags": [
     "body"
    ]
   },
   "outputs": [
    {
     "data": {
      "application/vnd.jupyter.widget-view+json": {
       "model_id": "b9d80994f2734858bbf721e7403900f6",
       "version_major": 2,
       "version_minor": 0
      },
      "text/plain": [
       "Output()"
      ]
     },
     "metadata": {},
     "output_type": "display_data"
    }
   ],
   "source": [
    "out_heatmap = widgets.Output()\n",
    "out_heatmap"
   ]
  },
  {
   "cell_type": "markdown",
   "id": "400d4271-4017-4c17-8031-c584750ae828",
   "metadata": {},
   "source": [
    "## Colonne 2"
   ]
  },
  {
   "cell_type": "markdown",
   "id": "c37582a6-a329-4091-bb9b-7a9a3aa06008",
   "metadata": {},
   "source": [
    "### Nombre de montées par arrêt (barchart)"
   ]
  },
  {
   "cell_type": "code",
   "execution_count": 9,
   "id": "adf01324-5d7c-4d05-b3d6-3adbaca0ce19",
   "metadata": {
    "tags": [
     "source"
    ]
   },
   "outputs": [],
   "source": [
    "def plot_bar_chart_nb_montees(total_montees_par_arret, out):\n",
    "    with out:\n",
    "        fig = px.bar(total_montees_par_arret,\n",
    "                     x='nom_arret',\n",
    "                     y='total_nb_de_montees',\n",
    "                     hover_name='arret_code_long',\n",
    "                     hover_data=['arret_code_long'],\n",
    "                     orientation='v',\n",
    "                     color='pays',\n",
    "                     color_discrete_map={'CH': '#FD5312', 'FR': 'blue'}, \n",
    "                     labels={'nom_arret':'Nom arrêt', 'total_nb_de_montees': 'Total Montees', 'arret_code_long': 'Code Arrêt', 'pays': 'Pays'}\n",
    "                    )\n",
    "\n",
    "        fig.update_xaxes(categoryorder='total descending', range=[-0.5, 50.5], rangeslider_visible=True)  # Sort the bars by the total number of montees\n",
    "        fig.update_yaxes(range=[0, 1.8e6], fixedrange= False)\n",
    "        fig.update_layout(margin=go.layout.Margin(l=0, r=0, b=0, t=0))\n",
    "        \n",
    "        clear_output(wait=True)\n",
    "        fig.show()\n"
   ]
  },
  {
   "cell_type": "code",
   "execution_count": 10,
   "id": "e82c2e52-fe27-4a96-b6b2-c384e3ed3146",
   "metadata": {},
   "outputs": [
    {
     "data": {
      "application/vnd.jupyter.widget-view+json": {
       "model_id": "f61c3ff7da5841f69ec031699b53020f",
       "version_major": 2,
       "version_minor": 0
      },
      "text/plain": [
       "Output()"
      ]
     },
     "metadata": {},
     "output_type": "display_data"
    }
   ],
   "source": [
    "out_bar_chart = widgets.Output()\n",
    "out_bar_chart"
   ]
  },
  {
   "cell_type": "code",
   "execution_count": 11,
   "id": "9059d792-a78a-4677-b8b0-433921a3eb0e",
   "metadata": {},
   "outputs": [],
   "source": [
    "def fetch_and_plot(change):\n",
    "    start_date = month_dropdown.value\n",
    "    end_date = start_date + pd.offsets.MonthEnd(0)\n",
    "\n",
    "    total_montees_par_arret = fetch_nb_montees_par_arret(start_date, end_date)\n",
    "    total_montees_par_arret = total_montees_par_arret.merge(right=data_arrets, how='left') # merge with stops metadata\n",
    "    plot_bar_chart_nb_montees(total_montees_par_arret, out_bar_chart)\n",
    "    plot_heatmap_nb_montees(total_montees_par_arret, out_heatmap)\n",
    "\n",
    "\n",
    "month_dropdown.observe(fetch_and_plot, names=\"value\")\n",
    "\n",
    "fetch_and_plot(None)"
   ]
  },
  {
   "cell_type": "markdown",
   "id": "f0ea5992-ff47-4492-9155-f3c233c44a03",
   "metadata": {},
   "source": [
    "# Nombre de montées par mois"
   ]
  },
  {
   "cell_type": "markdown",
   "id": "05491bb0-501c-44e0-b1d0-b20afe963ee6",
   "metadata": {
    "tags": []
   },
   "source": [
    "### Nombre de montées effectuées dans les véhicules par mois depuis 2016\n"
   ]
  },
  {
   "cell_type": "code",
   "execution_count": 12,
   "id": "20dc70e6-4c38-4d7f-a646-b992dee117cb",
   "metadata": {
    "tags": [
     "source"
    ]
   },
   "outputs": [],
   "source": [
    "def fetch_nb_montees_mensuelles():\n",
    "    # API URL\n",
    "    base_url = 'https://opendata.tpg.ch/api/explore/v2.1/catalog/'\n",
    "    endpoint = 'datasets/montees-mensuelles-par-arret-par-ligne/records'\n",
    "    url = base_url + endpoint\n",
    "\n",
    "    # Query parameters\n",
    "    offset = 0\n",
    "    limit = -1\n",
    "    select = \"SUM(nb_de_montees) AS total_nb_de_montees\"\n",
    "    group_by = \"mois\"\n",
    "    order_by = \"mois ASC\"\n",
    "\n",
    "    params = {\n",
    "        \"select\": select,\n",
    "        \"group_by\": group_by,\n",
    "        \"order_by\": order_by,\n",
    "        \"limit\": limit,\n",
    "        \"offset\": offset,\n",
    "    }\n",
    "\n",
    "    # Fetch data from the API endpoint\n",
    "    response = requests.get(url, params=params)\n",
    "    response = response.json()\n",
    "\n",
    "    records = response['results']\n",
    "\n",
    "    # Convert all_records to a DataFrame\n",
    "    total_montees_mensuelles = pd.json_normalize(records)\n",
    "\n",
    "    total_montees_mensuelles.fillna(value=np.nan, inplace=True)\n",
    "    total_montees_mensuelles['mois'] = pd.to_datetime(total_montees_mensuelles['mois'])\n",
    "    total_montees_mensuelles['year'] = total_montees_mensuelles['mois'].apply(lambda x : x.year)\n",
    "    total_montees_mensuelles['month'] = total_montees_mensuelles['mois'].apply(lambda x : x.month)\n",
    "    total_montees_mensuelles = total_montees_mensuelles[['mois', 'year', 'month', 'total_nb_de_montees']]\n",
    "    \n",
    "    return total_montees_mensuelles\n",
    "\n",
    "\n",
    "total_montees_mensuelles = fetch_nb_montees_mensuelles()"
   ]
  },
  {
   "cell_type": "code",
   "execution_count": 13,
   "id": "843dba34-d049-4420-b551-be5be0c846ed",
   "metadata": {
    "tags": [
     "body"
    ]
   },
   "outputs": [
    {
     "data": {
      "application/vnd.plotly.v1+json": {
       "config": {
        "plotlyServerURL": "https://plot.ly"
       },
       "data": [
        {
         "hovertemplate": "<b>Montées: %{y:,.0f}</b><extra></extra>",
         "line": {
          "color": "#FD5312",
          "shape": "spline"
         },
         "mode": "lines",
         "name": "Montées",
         "type": "scatter",
         "x": [
          "2016-01-01T00:00:00+00:00",
          "2016-02-01T00:00:00+00:00",
          "2016-03-01T00:00:00+00:00",
          "2016-04-01T00:00:00+00:00",
          "2016-05-01T00:00:00+00:00",
          "2016-06-01T00:00:00+00:00",
          "2016-07-01T00:00:00+00:00",
          "2016-08-01T00:00:00+00:00",
          "2016-09-01T00:00:00+00:00",
          "2016-10-01T00:00:00+00:00",
          "2016-11-01T00:00:00+00:00",
          "2016-12-01T00:00:00+00:00",
          "2017-01-01T00:00:00+00:00",
          "2017-02-01T00:00:00+00:00",
          "2017-03-01T00:00:00+00:00",
          "2017-04-01T00:00:00+00:00",
          "2017-05-01T00:00:00+00:00",
          "2017-06-01T00:00:00+00:00",
          "2017-07-01T00:00:00+00:00",
          "2017-08-01T00:00:00+00:00",
          "2017-09-01T00:00:00+00:00",
          "2017-10-01T00:00:00+00:00",
          "2017-11-01T00:00:00+00:00",
          "2017-12-01T00:00:00+00:00",
          "2018-01-01T00:00:00+00:00",
          "2018-02-01T00:00:00+00:00",
          "2018-03-01T00:00:00+00:00",
          "2018-04-01T00:00:00+00:00",
          "2018-05-01T00:00:00+00:00",
          "2018-06-01T00:00:00+00:00",
          "2018-07-01T00:00:00+00:00",
          "2018-08-01T00:00:00+00:00",
          "2018-09-01T00:00:00+00:00",
          "2018-10-01T00:00:00+00:00",
          "2018-11-01T00:00:00+00:00",
          "2018-12-01T00:00:00+00:00",
          "2019-01-01T00:00:00+00:00",
          "2019-02-01T00:00:00+00:00",
          "2019-03-01T00:00:00+00:00",
          "2019-04-01T00:00:00+00:00",
          "2019-05-01T00:00:00+00:00",
          "2019-06-01T00:00:00+00:00",
          "2019-07-01T00:00:00+00:00",
          "2019-08-01T00:00:00+00:00",
          "2019-09-01T00:00:00+00:00",
          "2019-10-01T00:00:00+00:00",
          "2019-11-01T00:00:00+00:00",
          "2019-12-01T00:00:00+00:00",
          "2020-01-01T00:00:00+00:00",
          "2020-02-01T00:00:00+00:00",
          "2020-03-01T00:00:00+00:00",
          "2020-04-01T00:00:00+00:00",
          "2020-05-01T00:00:00+00:00",
          "2020-06-01T00:00:00+00:00",
          "2020-07-01T00:00:00+00:00",
          "2020-08-01T00:00:00+00:00",
          "2020-09-01T00:00:00+00:00",
          "2020-10-01T00:00:00+00:00",
          "2020-11-01T00:00:00+00:00",
          "2020-12-01T00:00:00+00:00",
          "2021-01-01T00:00:00+00:00",
          "2021-02-01T00:00:00+00:00",
          "2021-03-01T00:00:00+00:00",
          "2021-04-01T00:00:00+00:00",
          "2021-05-01T00:00:00+00:00",
          "2021-06-01T00:00:00+00:00",
          "2021-07-01T00:00:00+00:00",
          "2021-08-01T00:00:00+00:00",
          "2021-09-01T00:00:00+00:00",
          "2021-10-01T00:00:00+00:00",
          "2021-11-01T00:00:00+00:00",
          "2021-12-01T00:00:00+00:00",
          "2022-01-01T00:00:00+00:00",
          "2022-02-01T00:00:00+00:00",
          "2022-03-01T00:00:00+00:00",
          "2022-04-01T00:00:00+00:00",
          "2022-05-01T00:00:00+00:00",
          "2022-06-01T00:00:00+00:00",
          "2022-07-01T00:00:00+00:00",
          "2022-08-01T00:00:00+00:00",
          "2022-09-01T00:00:00+00:00",
          "2022-10-01T00:00:00+00:00",
          "2022-11-01T00:00:00+00:00",
          "2022-12-01T00:00:00+00:00",
          "2023-01-01T00:00:00+00:00",
          "2023-02-01T00:00:00+00:00",
          "2023-03-01T00:00:00+00:00",
          "2023-04-01T00:00:00+00:00",
          "2023-05-01T00:00:00+00:00",
          "2023-06-01T00:00:00+00:00",
          "2023-07-01T00:00:00+00:00",
          "2023-08-01T00:00:00+00:00",
          "2023-09-01T00:00:00+00:00",
          "2023-10-01T00:00:00+00:00",
          "2023-11-01T00:00:00+00:00",
          "2023-12-01T00:00:00+00:00",
          "2024-01-01T00:00:00+00:00",
          "2024-02-01T00:00:00+00:00",
          "2024-03-01T00:00:00+00:00",
          "2024-04-01T00:00:00+00:00",
          "2024-05-01T00:00:00+00:00",
          "2024-06-01T00:00:00+00:00",
          "2024-07-01T00:00:00+00:00",
          "2024-08-01T00:00:00+00:00",
          "2024-09-01T00:00:00+00:00"
         ],
         "y": [
          16670373.260000002,
          17190533.85,
          18263805.36,
          18481088.06,
          18004478.950000003,
          18238242.3,
          14542400.42,
          14690058.719999999,
          17715232.630000003,
          18067412.97,
          19305624.810000002,
          17817843.34,
          17270112.580000002,
          16889307.91,
          20500998.990000002,
          16534906.850000001,
          19162824.310000002,
          18314679.26,
          14564245.41,
          15112199.8,
          17710168.330000002,
          18481432.07,
          19759094.3,
          17796528.880000003,
          17857633.810000002,
          16942247.150000002,
          19580109.740000002,
          17787047.97,
          18905374.240000002,
          18996278.68,
          15411530.63,
          15299550.780000001,
          17337022.159999996,
          19234173.770000003,
          20039010.71,
          17615994.42,
          18525746.86,
          17301747.02,
          20080757.34,
          17788687.59,
          20018273.020000003,
          18456383.580000002,
          16407554.84,
          15884682.030000001,
          18446668.3,
          20150224.03,
          20570179.12,
          18472587.56,
          19047703.52,
          18233362.69,
          10737035.95,
          3480204.21,
          7845416.51,
          12196240,
          12085955.07,
          11824738.010000002,
          14595829.82,
          14693744.780000001,
          10729411.440000001,
          12324834,
          11058568.520000001,
          10542873.41,
          13824186.18,
          12349262.98,
          13531295.74,
          14331695.02,
          12316603.770000001,
          12074558.940000001,
          15106647.700000001,
          15711719.020000001,
          16632576.560000002,
          15193898.220000003,
          13382954.130000003,
          14139121.420000002,
          17751344.46,
          15506331.990000002,
          17871355.509999998,
          17593922.87,
          14309483.719999999,
          15194553.55,
          17621346.58,
          16955714.57,
          18848236.580000002,
          17871283.880000003,
          17156605.080000002,
          16637070.68,
          20323554.66,
          16156798.840000002,
          19147564.61,
          19406813.380000003,
          15081402.68,
          16076212.59,
          18384747.87,
          19224858.520000003,
          20379661.21,
          18507210.62,
          18174003.630000003,
          18112859.450000003,
          19537203.47,
          17803944.880000003,
          19666274.07,
          19011883.32,
          15972895.420000002,
          16634666.830000002,
          18564209.900000002
         ]
        }
       ],
       "layout": {
        "autosize": true,
        "hoverlabel": {
         "bgcolor": "#FFFFFF",
         "bordercolor": "#FD5312",
         "font": {
          "color": "#000000"
         }
        },
        "hovermode": "x unified",
        "margin": {
         "b": 0,
         "l": 0,
         "r": 0,
         "t": 0
        },
        "template": {
         "data": {
          "bar": [
           {
            "error_x": {
             "color": "#2a3f5f"
            },
            "error_y": {
             "color": "#2a3f5f"
            },
            "marker": {
             "line": {
              "color": "white",
              "width": 0.5
             },
             "pattern": {
              "fillmode": "overlay",
              "size": 10,
              "solidity": 0.2
             }
            },
            "type": "bar"
           }
          ],
          "barpolar": [
           {
            "marker": {
             "line": {
              "color": "white",
              "width": 0.5
             },
             "pattern": {
              "fillmode": "overlay",
              "size": 10,
              "solidity": 0.2
             }
            },
            "type": "barpolar"
           }
          ],
          "carpet": [
           {
            "aaxis": {
             "endlinecolor": "#2a3f5f",
             "gridcolor": "#C8D4E3",
             "linecolor": "#C8D4E3",
             "minorgridcolor": "#C8D4E3",
             "startlinecolor": "#2a3f5f"
            },
            "baxis": {
             "endlinecolor": "#2a3f5f",
             "gridcolor": "#C8D4E3",
             "linecolor": "#C8D4E3",
             "minorgridcolor": "#C8D4E3",
             "startlinecolor": "#2a3f5f"
            },
            "type": "carpet"
           }
          ],
          "choropleth": [
           {
            "colorbar": {
             "outlinewidth": 0,
             "ticks": ""
            },
            "type": "choropleth"
           }
          ],
          "contour": [
           {
            "colorbar": {
             "outlinewidth": 0,
             "ticks": ""
            },
            "colorscale": [
             [
              0,
              "#0d0887"
             ],
             [
              0.1111111111111111,
              "#46039f"
             ],
             [
              0.2222222222222222,
              "#7201a8"
             ],
             [
              0.3333333333333333,
              "#9c179e"
             ],
             [
              0.4444444444444444,
              "#bd3786"
             ],
             [
              0.5555555555555556,
              "#d8576b"
             ],
             [
              0.6666666666666666,
              "#ed7953"
             ],
             [
              0.7777777777777778,
              "#fb9f3a"
             ],
             [
              0.8888888888888888,
              "#fdca26"
             ],
             [
              1,
              "#f0f921"
             ]
            ],
            "type": "contour"
           }
          ],
          "contourcarpet": [
           {
            "colorbar": {
             "outlinewidth": 0,
             "ticks": ""
            },
            "type": "contourcarpet"
           }
          ],
          "heatmap": [
           {
            "colorbar": {
             "outlinewidth": 0,
             "ticks": ""
            },
            "colorscale": [
             [
              0,
              "#0d0887"
             ],
             [
              0.1111111111111111,
              "#46039f"
             ],
             [
              0.2222222222222222,
              "#7201a8"
             ],
             [
              0.3333333333333333,
              "#9c179e"
             ],
             [
              0.4444444444444444,
              "#bd3786"
             ],
             [
              0.5555555555555556,
              "#d8576b"
             ],
             [
              0.6666666666666666,
              "#ed7953"
             ],
             [
              0.7777777777777778,
              "#fb9f3a"
             ],
             [
              0.8888888888888888,
              "#fdca26"
             ],
             [
              1,
              "#f0f921"
             ]
            ],
            "type": "heatmap"
           }
          ],
          "heatmapgl": [
           {
            "colorbar": {
             "outlinewidth": 0,
             "ticks": ""
            },
            "colorscale": [
             [
              0,
              "#0d0887"
             ],
             [
              0.1111111111111111,
              "#46039f"
             ],
             [
              0.2222222222222222,
              "#7201a8"
             ],
             [
              0.3333333333333333,
              "#9c179e"
             ],
             [
              0.4444444444444444,
              "#bd3786"
             ],
             [
              0.5555555555555556,
              "#d8576b"
             ],
             [
              0.6666666666666666,
              "#ed7953"
             ],
             [
              0.7777777777777778,
              "#fb9f3a"
             ],
             [
              0.8888888888888888,
              "#fdca26"
             ],
             [
              1,
              "#f0f921"
             ]
            ],
            "type": "heatmapgl"
           }
          ],
          "histogram": [
           {
            "marker": {
             "pattern": {
              "fillmode": "overlay",
              "size": 10,
              "solidity": 0.2
             }
            },
            "type": "histogram"
           }
          ],
          "histogram2d": [
           {
            "colorbar": {
             "outlinewidth": 0,
             "ticks": ""
            },
            "colorscale": [
             [
              0,
              "#0d0887"
             ],
             [
              0.1111111111111111,
              "#46039f"
             ],
             [
              0.2222222222222222,
              "#7201a8"
             ],
             [
              0.3333333333333333,
              "#9c179e"
             ],
             [
              0.4444444444444444,
              "#bd3786"
             ],
             [
              0.5555555555555556,
              "#d8576b"
             ],
             [
              0.6666666666666666,
              "#ed7953"
             ],
             [
              0.7777777777777778,
              "#fb9f3a"
             ],
             [
              0.8888888888888888,
              "#fdca26"
             ],
             [
              1,
              "#f0f921"
             ]
            ],
            "type": "histogram2d"
           }
          ],
          "histogram2dcontour": [
           {
            "colorbar": {
             "outlinewidth": 0,
             "ticks": ""
            },
            "colorscale": [
             [
              0,
              "#0d0887"
             ],
             [
              0.1111111111111111,
              "#46039f"
             ],
             [
              0.2222222222222222,
              "#7201a8"
             ],
             [
              0.3333333333333333,
              "#9c179e"
             ],
             [
              0.4444444444444444,
              "#bd3786"
             ],
             [
              0.5555555555555556,
              "#d8576b"
             ],
             [
              0.6666666666666666,
              "#ed7953"
             ],
             [
              0.7777777777777778,
              "#fb9f3a"
             ],
             [
              0.8888888888888888,
              "#fdca26"
             ],
             [
              1,
              "#f0f921"
             ]
            ],
            "type": "histogram2dcontour"
           }
          ],
          "mesh3d": [
           {
            "colorbar": {
             "outlinewidth": 0,
             "ticks": ""
            },
            "type": "mesh3d"
           }
          ],
          "parcoords": [
           {
            "line": {
             "colorbar": {
              "outlinewidth": 0,
              "ticks": ""
             }
            },
            "type": "parcoords"
           }
          ],
          "pie": [
           {
            "automargin": true,
            "type": "pie"
           }
          ],
          "scatter": [
           {
            "fillpattern": {
             "fillmode": "overlay",
             "size": 10,
             "solidity": 0.2
            },
            "type": "scatter"
           }
          ],
          "scatter3d": [
           {
            "line": {
             "colorbar": {
              "outlinewidth": 0,
              "ticks": ""
             }
            },
            "marker": {
             "colorbar": {
              "outlinewidth": 0,
              "ticks": ""
             }
            },
            "type": "scatter3d"
           }
          ],
          "scattercarpet": [
           {
            "marker": {
             "colorbar": {
              "outlinewidth": 0,
              "ticks": ""
             }
            },
            "type": "scattercarpet"
           }
          ],
          "scattergeo": [
           {
            "marker": {
             "colorbar": {
              "outlinewidth": 0,
              "ticks": ""
             }
            },
            "type": "scattergeo"
           }
          ],
          "scattergl": [
           {
            "marker": {
             "colorbar": {
              "outlinewidth": 0,
              "ticks": ""
             }
            },
            "type": "scattergl"
           }
          ],
          "scattermapbox": [
           {
            "marker": {
             "colorbar": {
              "outlinewidth": 0,
              "ticks": ""
             }
            },
            "type": "scattermapbox"
           }
          ],
          "scatterpolar": [
           {
            "marker": {
             "colorbar": {
              "outlinewidth": 0,
              "ticks": ""
             }
            },
            "type": "scatterpolar"
           }
          ],
          "scatterpolargl": [
           {
            "marker": {
             "colorbar": {
              "outlinewidth": 0,
              "ticks": ""
             }
            },
            "type": "scatterpolargl"
           }
          ],
          "scatterternary": [
           {
            "marker": {
             "colorbar": {
              "outlinewidth": 0,
              "ticks": ""
             }
            },
            "type": "scatterternary"
           }
          ],
          "surface": [
           {
            "colorbar": {
             "outlinewidth": 0,
             "ticks": ""
            },
            "colorscale": [
             [
              0,
              "#0d0887"
             ],
             [
              0.1111111111111111,
              "#46039f"
             ],
             [
              0.2222222222222222,
              "#7201a8"
             ],
             [
              0.3333333333333333,
              "#9c179e"
             ],
             [
              0.4444444444444444,
              "#bd3786"
             ],
             [
              0.5555555555555556,
              "#d8576b"
             ],
             [
              0.6666666666666666,
              "#ed7953"
             ],
             [
              0.7777777777777778,
              "#fb9f3a"
             ],
             [
              0.8888888888888888,
              "#fdca26"
             ],
             [
              1,
              "#f0f921"
             ]
            ],
            "type": "surface"
           }
          ],
          "table": [
           {
            "cells": {
             "fill": {
              "color": "#EBF0F8"
             },
             "line": {
              "color": "white"
             }
            },
            "header": {
             "fill": {
              "color": "#C8D4E3"
             },
             "line": {
              "color": "white"
             }
            },
            "type": "table"
           }
          ]
         },
         "layout": {
          "annotationdefaults": {
           "arrowcolor": "#2a3f5f",
           "arrowhead": 0,
           "arrowwidth": 1
          },
          "autotypenumbers": "strict",
          "coloraxis": {
           "colorbar": {
            "outlinewidth": 0,
            "ticks": ""
           }
          },
          "colorscale": {
           "diverging": [
            [
             0,
             "#8e0152"
            ],
            [
             0.1,
             "#c51b7d"
            ],
            [
             0.2,
             "#de77ae"
            ],
            [
             0.3,
             "#f1b6da"
            ],
            [
             0.4,
             "#fde0ef"
            ],
            [
             0.5,
             "#f7f7f7"
            ],
            [
             0.6,
             "#e6f5d0"
            ],
            [
             0.7,
             "#b8e186"
            ],
            [
             0.8,
             "#7fbc41"
            ],
            [
             0.9,
             "#4d9221"
            ],
            [
             1,
             "#276419"
            ]
           ],
           "sequential": [
            [
             0,
             "#0d0887"
            ],
            [
             0.1111111111111111,
             "#46039f"
            ],
            [
             0.2222222222222222,
             "#7201a8"
            ],
            [
             0.3333333333333333,
             "#9c179e"
            ],
            [
             0.4444444444444444,
             "#bd3786"
            ],
            [
             0.5555555555555556,
             "#d8576b"
            ],
            [
             0.6666666666666666,
             "#ed7953"
            ],
            [
             0.7777777777777778,
             "#fb9f3a"
            ],
            [
             0.8888888888888888,
             "#fdca26"
            ],
            [
             1,
             "#f0f921"
            ]
           ],
           "sequentialminus": [
            [
             0,
             "#0d0887"
            ],
            [
             0.1111111111111111,
             "#46039f"
            ],
            [
             0.2222222222222222,
             "#7201a8"
            ],
            [
             0.3333333333333333,
             "#9c179e"
            ],
            [
             0.4444444444444444,
             "#bd3786"
            ],
            [
             0.5555555555555556,
             "#d8576b"
            ],
            [
             0.6666666666666666,
             "#ed7953"
            ],
            [
             0.7777777777777778,
             "#fb9f3a"
            ],
            [
             0.8888888888888888,
             "#fdca26"
            ],
            [
             1,
             "#f0f921"
            ]
           ]
          },
          "colorway": [
           "#636efa",
           "#EF553B",
           "#00cc96",
           "#ab63fa",
           "#FFA15A",
           "#19d3f3",
           "#FF6692",
           "#B6E880",
           "#FF97FF",
           "#FECB52"
          ],
          "font": {
           "color": "#2a3f5f"
          },
          "geo": {
           "bgcolor": "white",
           "lakecolor": "white",
           "landcolor": "white",
           "showlakes": true,
           "showland": true,
           "subunitcolor": "#C8D4E3"
          },
          "hoverlabel": {
           "align": "left"
          },
          "hovermode": "closest",
          "mapbox": {
           "style": "light"
          },
          "paper_bgcolor": "white",
          "plot_bgcolor": "white",
          "polar": {
           "angularaxis": {
            "gridcolor": "#EBF0F8",
            "linecolor": "#EBF0F8",
            "ticks": ""
           },
           "bgcolor": "white",
           "radialaxis": {
            "gridcolor": "#EBF0F8",
            "linecolor": "#EBF0F8",
            "ticks": ""
           }
          },
          "scene": {
           "xaxis": {
            "backgroundcolor": "white",
            "gridcolor": "#DFE8F3",
            "gridwidth": 2,
            "linecolor": "#EBF0F8",
            "showbackground": true,
            "ticks": "",
            "zerolinecolor": "#EBF0F8"
           },
           "yaxis": {
            "backgroundcolor": "white",
            "gridcolor": "#DFE8F3",
            "gridwidth": 2,
            "linecolor": "#EBF0F8",
            "showbackground": true,
            "ticks": "",
            "zerolinecolor": "#EBF0F8"
           },
           "zaxis": {
            "backgroundcolor": "white",
            "gridcolor": "#DFE8F3",
            "gridwidth": 2,
            "linecolor": "#EBF0F8",
            "showbackground": true,
            "ticks": "",
            "zerolinecolor": "#EBF0F8"
           }
          },
          "shapedefaults": {
           "line": {
            "color": "#2a3f5f"
           }
          },
          "ternary": {
           "aaxis": {
            "gridcolor": "#DFE8F3",
            "linecolor": "#A2B1C6",
            "ticks": ""
           },
           "baxis": {
            "gridcolor": "#DFE8F3",
            "linecolor": "#A2B1C6",
            "ticks": ""
           },
           "bgcolor": "white",
           "caxis": {
            "gridcolor": "#DFE8F3",
            "linecolor": "#A2B1C6",
            "ticks": ""
           }
          },
          "title": {
           "x": 0.05
          },
          "xaxis": {
           "automargin": true,
           "gridcolor": "#EBF0F8",
           "linecolor": "#EBF0F8",
           "ticks": "",
           "title": {
            "standoff": 15
           },
           "zerolinecolor": "#EBF0F8",
           "zerolinewidth": 2
          },
          "yaxis": {
           "automargin": true,
           "gridcolor": "#EBF0F8",
           "linecolor": "#EBF0F8",
           "ticks": "",
           "title": {
            "standoff": 15
           },
           "zerolinecolor": "#EBF0F8",
           "zerolinewidth": 2
          }
         }
        },
        "xaxis": {
         "autorange": true,
         "fixedrange": false,
         "range": [
          "2016-01-01",
          "2024-09-01"
         ],
         "tickangle": -45,
         "tickformat": "%b %Y",
         "type": "date"
        },
        "yaxis": {
         "autorange": true,
         "fixedrange": true,
         "range": [
          2530761.1594444443,
          21519622.170555558
         ],
         "type": "linear"
        }
       }
      },
      "image/png": "[encoded data removed]",
      "text/html": [
       "<div>                            <div id=\"c2de42f4-b523-482c-af03-cf9fa29d30dd\" class=\"plotly-graph-div\" style=\"height:525px; width:100%;\"></div>            <script type=\"text/javascript\">                require([\"plotly\"], function(Plotly) {                    window.PLOTLYENV=window.PLOTLYENV || {};                                    if (document.getElementById(\"c2de42f4-b523-482c-af03-cf9fa29d30dd\")) {                    Plotly.newPlot(                        \"c2de42f4-b523-482c-af03-cf9fa29d30dd\",                        [{\"hovertemplate\":\"\\u003cb\\u003eMont\\u00e9es: %{y:,.0f}\\u003c\\u002fb\\u003e\\u003cextra\\u003e\\u003c\\u002fextra\\u003e\",\"line\":{\"color\":\"#FD5312\",\"shape\":\"spline\"},\"mode\":\"lines\",\"name\":\"Mont\\u00e9es\",\"x\":[\"2016-01-01T00:00:00+00:00\",\"2016-02-01T00:00:00+00:00\",\"2016-03-01T00:00:00+00:00\",\"2016-04-01T00:00:00+00:00\",\"2016-05-01T00:00:00+00:00\",\"2016-06-01T00:00:00+00:00\",\"2016-07-01T00:00:00+00:00\",\"2016-08-01T00:00:00+00:00\",\"2016-09-01T00:00:00+00:00\",\"2016-10-01T00:00:00+00:00\",\"2016-11-01T00:00:00+00:00\",\"2016-12-01T00:00:00+00:00\",\"2017-01-01T00:00:00+00:00\",\"2017-02-01T00:00:00+00:00\",\"2017-03-01T00:00:00+00:00\",\"2017-04-01T00:00:00+00:00\",\"2017-05-01T00:00:00+00:00\",\"2017-06-01T00:00:00+00:00\",\"2017-07-01T00:00:00+00:00\",\"2017-08-01T00:00:00+00:00\",\"2017-09-01T00:00:00+00:00\",\"2017-10-01T00:00:00+00:00\",\"2017-11-01T00:00:00+00:00\",\"2017-12-01T00:00:00+00:00\",\"2018-01-01T00:00:00+00:00\",\"2018-02-01T00:00:00+00:00\",\"2018-03-01T00:00:00+00:00\",\"2018-04-01T00:00:00+00:00\",\"2018-05-01T00:00:00+00:00\",\"2018-06-01T00:00:00+00:00\",\"2018-07-01T00:00:00+00:00\",\"2018-08-01T00:00:00+00:00\",\"2018-09-01T00:00:00+00:00\",\"2018-10-01T00:00:00+00:00\",\"2018-11-01T00:00:00+00:00\",\"2018-12-01T00:00:00+00:00\",\"2019-01-01T00:00:00+00:00\",\"2019-02-01T00:00:00+00:00\",\"2019-03-01T00:00:00+00:00\",\"2019-04-01T00:00:00+00:00\",\"2019-05-01T00:00:00+00:00\",\"2019-06-01T00:00:00+00:00\",\"2019-07-01T00:00:00+00:00\",\"2019-08-01T00:00:00+00:00\",\"2019-09-01T00:00:00+00:00\",\"2019-10-01T00:00:00+00:00\",\"2019-11-01T00:00:00+00:00\",\"2019-12-01T00:00:00+00:00\",\"2020-01-01T00:00:00+00:00\",\"2020-02-01T00:00:00+00:00\",\"2020-03-01T00:00:00+00:00\",\"2020-04-01T00:00:00+00:00\",\"2020-05-01T00:00:00+00:00\",\"2020-06-01T00:00:00+00:00\",\"2020-07-01T00:00:00+00:00\",\"2020-08-01T00:00:00+00:00\",\"2020-09-01T00:00:00+00:00\",\"2020-10-01T00:00:00+00:00\",\"2020-11-01T00:00:00+00:00\",\"2020-12-01T00:00:00+00:00\",\"2021-01-01T00:00:00+00:00\",\"2021-02-01T00:00:00+00:00\",\"2021-03-01T00:00:00+00:00\",\"2021-04-01T00:00:00+00:00\",\"2021-05-01T00:00:00+00:00\",\"2021-06-01T00:00:00+00:00\",\"2021-07-01T00:00:00+00:00\",\"2021-08-01T00:00:00+00:00\",\"2021-09-01T00:00:00+00:00\",\"2021-10-01T00:00:00+00:00\",\"2021-11-01T00:00:00+00:00\",\"2021-12-01T00:00:00+00:00\",\"2022-01-01T00:00:00+00:00\",\"2022-02-01T00:00:00+00:00\",\"2022-03-01T00:00:00+00:00\",\"2022-04-01T00:00:00+00:00\",\"2022-05-01T00:00:00+00:00\",\"2022-06-01T00:00:00+00:00\",\"2022-07-01T00:00:00+00:00\",\"2022-08-01T00:00:00+00:00\",\"2022-09-01T00:00:00+00:00\",\"2022-10-01T00:00:00+00:00\",\"2022-11-01T00:00:00+00:00\",\"2022-12-01T00:00:00+00:00\",\"2023-01-01T00:00:00+00:00\",\"2023-02-01T00:00:00+00:00\",\"2023-03-01T00:00:00+00:00\",\"2023-04-01T00:00:00+00:00\",\"2023-05-01T00:00:00+00:00\",\"2023-06-01T00:00:00+00:00\",\"2023-07-01T00:00:00+00:00\",\"2023-08-01T00:00:00+00:00\",\"2023-09-01T00:00:00+00:00\",\"2023-10-01T00:00:00+00:00\",\"2023-11-01T00:00:00+00:00\",\"2023-12-01T00:00:00+00:00\",\"2024-01-01T00:00:00+00:00\",\"2024-02-01T00:00:00+00:00\",\"2024-03-01T00:00:00+00:00\",\"2024-04-01T00:00:00+00:00\",\"2024-05-01T00:00:00+00:00\",\"2024-06-01T00:00:00+00:00\",\"2024-07-01T00:00:00+00:00\",\"2024-08-01T00:00:00+00:00\",\"2024-09-01T00:00:00+00:00\"],\"y\":[16670373.260000002,17190533.85,18263805.36,18481088.06,18004478.950000003,18238242.3,14542400.42,14690058.719999999,17715232.630000003,18067412.97,19305624.810000002,17817843.34,17270112.580000002,16889307.91,20500998.990000002,16534906.850000001,19162824.310000002,18314679.26,14564245.41,15112199.8,17710168.330000002,18481432.07,19759094.3,17796528.880000003,17857633.810000002,16942247.150000002,19580109.740000002,17787047.97,18905374.240000002,18996278.68,15411530.63,15299550.780000001,17337022.159999996,19234173.770000003,20039010.71,17615994.42,18525746.86,17301747.02,20080757.34,17788687.59,20018273.020000003,18456383.580000002,16407554.84,15884682.030000001,18446668.3,20150224.03,20570179.12,18472587.56,19047703.52,18233362.69,10737035.95,3480204.21,7845416.51,12196240.0,12085955.07,11824738.010000002,14595829.82,14693744.780000001,10729411.440000001,12324834.0,11058568.520000001,10542873.41,13824186.18,12349262.98,13531295.74,14331695.02,12316603.770000001,12074558.940000001,15106647.700000001,15711719.020000001,16632576.560000002,15193898.220000003,13382954.130000003,14139121.420000002,17751344.46,15506331.990000002,17871355.509999998,17593922.87,14309483.719999999,15194553.55,17621346.58,16955714.57,18848236.580000002,17871283.880000003,17156605.080000002,16637070.68,20323554.66,16156798.840000002,19147564.61,19406813.380000003,15081402.68,16076212.59,18384747.87,19224858.520000003,20379661.21,18507210.62,18174003.630000003,18112859.450000003,19537203.47,17803944.880000003,19666274.07,19011883.32,15972895.420000002,16634666.830000002,18564209.900000002],\"type\":\"scatter\"}],                        {\"template\":{\"data\":{\"barpolar\":[{\"marker\":{\"line\":{\"color\":\"white\",\"width\":0.5},\"pattern\":{\"fillmode\":\"overlay\",\"size\":10,\"solidity\":0.2}},\"type\":\"barpolar\"}],\"bar\":[{\"error_x\":{\"color\":\"#2a3f5f\"},\"error_y\":{\"color\":\"#2a3f5f\"},\"marker\":{\"line\":{\"color\":\"white\",\"width\":0.5},\"pattern\":{\"fillmode\":\"overlay\",\"size\":10,\"solidity\":0.2}},\"type\":\"bar\"}],\"carpet\":[{\"aaxis\":{\"endlinecolor\":\"#2a3f5f\",\"gridcolor\":\"#C8D4E3\",\"linecolor\":\"#C8D4E3\",\"minorgridcolor\":\"#C8D4E3\",\"startlinecolor\":\"#2a3f5f\"},\"baxis\":{\"endlinecolor\":\"#2a3f5f\",\"gridcolor\":\"#C8D4E3\",\"linecolor\":\"#C8D4E3\",\"minorgridcolor\":\"#C8D4E3\",\"startlinecolor\":\"#2a3f5f\"},\"type\":\"carpet\"}],\"choropleth\":[{\"colorbar\":{\"outlinewidth\":0,\"ticks\":\"\"},\"type\":\"choropleth\"}],\"contourcarpet\":[{\"colorbar\":{\"outlinewidth\":0,\"ticks\":\"\"},\"type\":\"contourcarpet\"}],\"contour\":[{\"colorbar\":{\"outlinewidth\":0,\"ticks\":\"\"},\"colorscale\":[[0.0,\"#0d0887\"],[0.1111111111111111,\"#46039f\"],[0.2222222222222222,\"#7201a8\"],[0.3333333333333333,\"#9c179e\"],[0.4444444444444444,\"#bd3786\"],[0.5555555555555556,\"#d8576b\"],[0.6666666666666666,\"#ed7953\"],[0.7777777777777778,\"#fb9f3a\"],[0.8888888888888888,\"#fdca26\"],[1.0,\"#f0f921\"]],\"type\":\"contour\"}],\"heatmapgl\":[{\"colorbar\":{\"outlinewidth\":0,\"ticks\":\"\"},\"colorscale\":[[0.0,\"#0d0887\"],[0.1111111111111111,\"#46039f\"],[0.2222222222222222,\"#7201a8\"],[0.3333333333333333,\"#9c179e\"],[0.4444444444444444,\"#bd3786\"],[0.5555555555555556,\"#d8576b\"],[0.6666666666666666,\"#ed7953\"],[0.7777777777777778,\"#fb9f3a\"],[0.8888888888888888,\"#fdca26\"],[1.0,\"#f0f921\"]],\"type\":\"heatmapgl\"}],\"heatmap\":[{\"colorbar\":{\"outlinewidth\":0,\"ticks\":\"\"},\"colorscale\":[[0.0,\"#0d0887\"],[0.1111111111111111,\"#46039f\"],[0.2222222222222222,\"#7201a8\"],[0.3333333333333333,\"#9c179e\"],[0.4444444444444444,\"#bd3786\"],[0.5555555555555556,\"#d8576b\"],[0.6666666666666666,\"#ed7953\"],[0.7777777777777778,\"#fb9f3a\"],[0.8888888888888888,\"#fdca26\"],[1.0,\"#f0f921\"]],\"type\":\"heatmap\"}],\"histogram2dcontour\":[{\"colorbar\":{\"outlinewidth\":0,\"ticks\":\"\"},\"colorscale\":[[0.0,\"#0d0887\"],[0.1111111111111111,\"#46039f\"],[0.2222222222222222,\"#7201a8\"],[0.3333333333333333,\"#9c179e\"],[0.4444444444444444,\"#bd3786\"],[0.5555555555555556,\"#d8576b\"],[0.6666666666666666,\"#ed7953\"],[0.7777777777777778,\"#fb9f3a\"],[0.8888888888888888,\"#fdca26\"],[1.0,\"#f0f921\"]],\"type\":\"histogram2dcontour\"}],\"histogram2d\":[{\"colorbar\":{\"outlinewidth\":0,\"ticks\":\"\"},\"colorscale\":[[0.0,\"#0d0887\"],[0.1111111111111111,\"#46039f\"],[0.2222222222222222,\"#7201a8\"],[0.3333333333333333,\"#9c179e\"],[0.4444444444444444,\"#bd3786\"],[0.5555555555555556,\"#d8576b\"],[0.6666666666666666,\"#ed7953\"],[0.7777777777777778,\"#fb9f3a\"],[0.8888888888888888,\"#fdca26\"],[1.0,\"#f0f921\"]],\"type\":\"histogram2d\"}],\"histogram\":[{\"marker\":{\"pattern\":{\"fillmode\":\"overlay\",\"size\":10,\"solidity\":0.2}},\"type\":\"histogram\"}],\"mesh3d\":[{\"colorbar\":{\"outlinewidth\":0,\"ticks\":\"\"},\"type\":\"mesh3d\"}],\"parcoords\":[{\"line\":{\"colorbar\":{\"outlinewidth\":0,\"ticks\":\"\"}},\"type\":\"parcoords\"}],\"pie\":[{\"automargin\":true,\"type\":\"pie\"}],\"scatter3d\":[{\"line\":{\"colorbar\":{\"outlinewidth\":0,\"ticks\":\"\"}},\"marker\":{\"colorbar\":{\"outlinewidth\":0,\"ticks\":\"\"}},\"type\":\"scatter3d\"}],\"scattercarpet\":[{\"marker\":{\"colorbar\":{\"outlinewidth\":0,\"ticks\":\"\"}},\"type\":\"scattercarpet\"}],\"scattergeo\":[{\"marker\":{\"colorbar\":{\"outlinewidth\":0,\"ticks\":\"\"}},\"type\":\"scattergeo\"}],\"scattergl\":[{\"marker\":{\"colorbar\":{\"outlinewidth\":0,\"ticks\":\"\"}},\"type\":\"scattergl\"}],\"scattermapbox\":[{\"marker\":{\"colorbar\":{\"outlinewidth\":0,\"ticks\":\"\"}},\"type\":\"scattermapbox\"}],\"scatterpolargl\":[{\"marker\":{\"colorbar\":{\"outlinewidth\":0,\"ticks\":\"\"}},\"type\":\"scatterpolargl\"}],\"scatterpolar\":[{\"marker\":{\"colorbar\":{\"outlinewidth\":0,\"ticks\":\"\"}},\"type\":\"scatterpolar\"}],\"scatter\":[{\"fillpattern\":{\"fillmode\":\"overlay\",\"size\":10,\"solidity\":0.2},\"type\":\"scatter\"}],\"scatterternary\":[{\"marker\":{\"colorbar\":{\"outlinewidth\":0,\"ticks\":\"\"}},\"type\":\"scatterternary\"}],\"surface\":[{\"colorbar\":{\"outlinewidth\":0,\"ticks\":\"\"},\"colorscale\":[[0.0,\"#0d0887\"],[0.1111111111111111,\"#46039f\"],[0.2222222222222222,\"#7201a8\"],[0.3333333333333333,\"#9c179e\"],[0.4444444444444444,\"#bd3786\"],[0.5555555555555556,\"#d8576b\"],[0.6666666666666666,\"#ed7953\"],[0.7777777777777778,\"#fb9f3a\"],[0.8888888888888888,\"#fdca26\"],[1.0,\"#f0f921\"]],\"type\":\"surface\"}],\"table\":[{\"cells\":{\"fill\":{\"color\":\"#EBF0F8\"},\"line\":{\"color\":\"white\"}},\"header\":{\"fill\":{\"color\":\"#C8D4E3\"},\"line\":{\"color\":\"white\"}},\"type\":\"table\"}]},\"layout\":{\"annotationdefaults\":{\"arrowcolor\":\"#2a3f5f\",\"arrowhead\":0,\"arrowwidth\":1},\"autotypenumbers\":\"strict\",\"coloraxis\":{\"colorbar\":{\"outlinewidth\":0,\"ticks\":\"\"}},\"colorscale\":{\"diverging\":[[0,\"#8e0152\"],[0.1,\"#c51b7d\"],[0.2,\"#de77ae\"],[0.3,\"#f1b6da\"],[0.4,\"#fde0ef\"],[0.5,\"#f7f7f7\"],[0.6,\"#e6f5d0\"],[0.7,\"#b8e186\"],[0.8,\"#7fbc41\"],[0.9,\"#4d9221\"],[1,\"#276419\"]],\"sequential\":[[0.0,\"#0d0887\"],[0.1111111111111111,\"#46039f\"],[0.2222222222222222,\"#7201a8\"],[0.3333333333333333,\"#9c179e\"],[0.4444444444444444,\"#bd3786\"],[0.5555555555555556,\"#d8576b\"],[0.6666666666666666,\"#ed7953\"],[0.7777777777777778,\"#fb9f3a\"],[0.8888888888888888,\"#fdca26\"],[1.0,\"#f0f921\"]],\"sequentialminus\":[[0.0,\"#0d0887\"],[0.1111111111111111,\"#46039f\"],[0.2222222222222222,\"#7201a8\"],[0.3333333333333333,\"#9c179e\"],[0.4444444444444444,\"#bd3786\"],[0.5555555555555556,\"#d8576b\"],[0.6666666666666666,\"#ed7953\"],[0.7777777777777778,\"#fb9f3a\"],[0.8888888888888888,\"#fdca26\"],[1.0,\"#f0f921\"]]},\"colorway\":[\"#636efa\",\"#EF553B\",\"#00cc96\",\"#ab63fa\",\"#FFA15A\",\"#19d3f3\",\"#FF6692\",\"#B6E880\",\"#FF97FF\",\"#FECB52\"],\"font\":{\"color\":\"#2a3f5f\"},\"geo\":{\"bgcolor\":\"white\",\"lakecolor\":\"white\",\"landcolor\":\"white\",\"showlakes\":true,\"showland\":true,\"subunitcolor\":\"#C8D4E3\"},\"hoverlabel\":{\"align\":\"left\"},\"hovermode\":\"closest\",\"mapbox\":{\"style\":\"light\"},\"paper_bgcolor\":\"white\",\"plot_bgcolor\":\"white\",\"polar\":{\"angularaxis\":{\"gridcolor\":\"#EBF0F8\",\"linecolor\":\"#EBF0F8\",\"ticks\":\"\"},\"bgcolor\":\"white\",\"radialaxis\":{\"gridcolor\":\"#EBF0F8\",\"linecolor\":\"#EBF0F8\",\"ticks\":\"\"}},\"scene\":{\"xaxis\":{\"backgroundcolor\":\"white\",\"gridcolor\":\"#DFE8F3\",\"gridwidth\":2,\"linecolor\":\"#EBF0F8\",\"showbackground\":true,\"ticks\":\"\",\"zerolinecolor\":\"#EBF0F8\"},\"yaxis\":{\"backgroundcolor\":\"white\",\"gridcolor\":\"#DFE8F3\",\"gridwidth\":2,\"linecolor\":\"#EBF0F8\",\"showbackground\":true,\"ticks\":\"\",\"zerolinecolor\":\"#EBF0F8\"},\"zaxis\":{\"backgroundcolor\":\"white\",\"gridcolor\":\"#DFE8F3\",\"gridwidth\":2,\"linecolor\":\"#EBF0F8\",\"showbackground\":true,\"ticks\":\"\",\"zerolinecolor\":\"#EBF0F8\"}},\"shapedefaults\":{\"line\":{\"color\":\"#2a3f5f\"}},\"ternary\":{\"aaxis\":{\"gridcolor\":\"#DFE8F3\",\"linecolor\":\"#A2B1C6\",\"ticks\":\"\"},\"baxis\":{\"gridcolor\":\"#DFE8F3\",\"linecolor\":\"#A2B1C6\",\"ticks\":\"\"},\"bgcolor\":\"white\",\"caxis\":{\"gridcolor\":\"#DFE8F3\",\"linecolor\":\"#A2B1C6\",\"ticks\":\"\"}},\"title\":{\"x\":0.05},\"xaxis\":{\"automargin\":true,\"gridcolor\":\"#EBF0F8\",\"linecolor\":\"#EBF0F8\",\"ticks\":\"\",\"title\":{\"standoff\":15},\"zerolinecolor\":\"#EBF0F8\",\"zerolinewidth\":2},\"yaxis\":{\"automargin\":true,\"gridcolor\":\"#EBF0F8\",\"linecolor\":\"#EBF0F8\",\"ticks\":\"\",\"title\":{\"standoff\":15},\"zerolinecolor\":\"#EBF0F8\",\"zerolinewidth\":2}}},\"xaxis\":{\"tickformat\":\"%b %Y\",\"tickangle\":-45,\"fixedrange\":false},\"yaxis\":{\"fixedrange\":true},\"hoverlabel\":{\"font\":{\"color\":\"#000000\"},\"bgcolor\":\"#FFFFFF\",\"bordercolor\":\"#FD5312\"},\"hovermode\":\"x unified\",\"margin\":{\"b\":0,\"l\":0,\"r\":0,\"t\":0}},                        {\"responsive\": true}                    ).then(function(){\n",
       "                            \n",
       "var gd = document.getElementById('c2de42f4-b523-482c-af03-cf9fa29d30dd');\n",
       "var x = new MutationObserver(function (mutations, observer) {{\n",
       "        var display = window.getComputedStyle(gd).display;\n",
       "        if (!display || display === 'none') {{\n",
       "            console.log([gd, 'removed!']);\n",
       "            Plotly.purge(gd);\n",
       "            observer.disconnect();\n",
       "        }}\n",
       "}});\n",
       "\n",
       "// Listen for the removal of the full notebook cells\n",
       "var notebookContainer = gd.closest('#notebook-container');\n",
       "if (notebookContainer) {{\n",
       "    x.observe(notebookContainer, {childList: true});\n",
       "}}\n",
       "\n",
       "// Listen for the clearing of the current output cell\n",
       "var outputEl = gd.closest('.output');\n",
       "if (outputEl) {{\n",
       "    x.observe(outputEl, {childList: true});\n",
       "}}\n",
       "\n",
       "                        })                };                });            </script>        </div>"
      ]
     },
     "metadata": {},
     "output_type": "display_data"
    }
   ],
   "source": [
    "# Create a figure\n",
    "fig = go.Figure()\n",
    "\n",
    "# Add a line trace to the figure without markers\n",
    "fig.add_trace(go.Scatter(\n",
    "    x=total_montees_mensuelles['mois'], \n",
    "    y=total_montees_mensuelles['total_nb_de_montees'], \n",
    "    mode='lines', \n",
    "    line=dict(color='#FD5312', shape='spline'), \n",
    "    name='Montées',\n",
    "    hovertemplate='<b>Montées: %{y:,.0f}</b><extra></extra>',  # Bold 'Montées''\n",
    "    # hoverinfo='y'  # Show only y value on hover\n",
    "))\n",
    "\n",
    "# Update layout\n",
    "fig.update_layout(\n",
    "    xaxis=dict(\n",
    "        tickformat='%b %Y',  # Customize date format\n",
    "        tickangle=-45,  # Rotate tick labels by 45 degrees\n",
    "    ),\n",
    "    xaxis_fixedrange=False,\n",
    "    yaxis_fixedrange=True,\n",
    "    template='plotly_white',\n",
    "    hoverlabel=dict(\n",
    "        bgcolor='#FFFFFF',\n",
    "        bordercolor='#FD5312',  # Orange border color\n",
    "        font=dict(color='#000000')\n",
    "    ),\n",
    "    hovermode='x unified',\n",
    "    margin=go.layout.Margin(l=0, r=0, b=0, t=0)\n",
    ")\n",
    "\n",
    "\n",
    "# Show the plot\n",
    "fig.show()"
   ]
  },
  {
   "cell_type": "markdown",
   "id": "d51ddd91-5da5-44e6-8fc1-4caf9de9ad90",
   "metadata": {},
   "source": [
    "# Plan des arrêts"
   ]
  },
  {
   "cell_type": "markdown",
   "id": "ed7a5762-ddff-4673-87f6-4a31231ad1df",
   "metadata": {
    "tags": []
   },
   "source": [
    "## Column 1"
   ]
  },
  {
   "cell_type": "markdown",
   "id": "0c792c48-50a7-4227-9d89-707c583155aa",
   "metadata": {},
   "source": [
    "### Plan des arrêts"
   ]
  },
  {
   "cell_type": "code",
   "execution_count": 14,
   "id": "8b50d000-1d7c-42cd-ae2b-04da636e1689",
   "metadata": {
    "tags": [
     "source"
    ]
   },
   "outputs": [],
   "source": [
    "def add_marker_to_map(row, marker_cluster):\n",
    "    lon = row['coordonnees_lon']\n",
    "    lat = row['coordonnees_lat']\n",
    "\n",
    "    if not np.isnan(lon) and not np.isnan(lat):\n",
    "        popup_html = \"<b>Nom :</b> {}<br>\".format(row['nom_arret'])\n",
    "        popup_html += \"<b>Commune :</b> {}<br>\".format(row['commune'])\n",
    "        popup_html += \"<b>Pays :</b> {}<br>\".format(row['pays'])\n",
    "        popup_html += \"<b>Code Arret :</b> {}<br>\".format(row['arret_code_long'])\n",
    "\n",
    "        if row['pays'] == 'CH':\n",
    "            marker_color = 'orange'\n",
    "        else:\n",
    "            marker_color = 'blue'\n",
    "\n",
    "        folium.Marker(\n",
    "            location=[lat, lon],\n",
    "            tooltip=row['nom_arret'],\n",
    "            icon=folium.Icon(color=marker_color, icon=\"bus\", prefix=\"fa\"),\n",
    "            popup=folium.Popup(popup_html, max_width=300)\n",
    "        ).add_to(marker_cluster)\n",
    "\n",
    "def draw_map_arrets(coordonnees_centre, data_arrets_actifs, zoom_start=12):\n",
    "    m = folium.Map(location=coordonnees_centre, zoom_start=zoom_start, min_zoom=9, control_scale=True, height='80%')\n",
    "    marker_cluster = MarkerCluster(name='Arrêts').add_to(m)\n",
    "\n",
    "    data_arrets_actifs.apply(add_marker_to_map, axis=1, marker_cluster=marker_cluster)\n",
    "\n",
    "    return m\n",
    "\n",
    "def geocode(address):\n",
    "    headers = {\n",
    "        'Referer': 'https://geneva-transports-analysis-c361239af243.herokuapp.com/'\n",
    "    }\n",
    "    params = { \"q\": address, 'format': 'json' }\n",
    "    response = requests.get(f\"https://nominatim.openstreetmap.org/search\", params=params, headers=headers)\n",
    "    if response.status_code == 200:\n",
    "        places = response.json()\n",
    "        if len(places) > 0:\n",
    "            place = places[0]\n",
    "            display_name = place['display_name']\n",
    "            print(f'Adresse trouvée: {display_name}')\n",
    "            return place\n",
    "\n",
    "    print(\"Pas d'adresse trouvée\")\n",
    "    return None\n",
    "\n",
    "def calculate_distance(stop_coords, selected_coords):\n",
    "    return geodesic(stop_coords, selected_coords).meters\n",
    "\n",
    "def get_closest_stops(data_arrets, selected_coords):\n",
    "\n",
    "    # Compute distances for each stop\n",
    "    data_arrets_with_distance = data_arrets.copy()\n",
    "    data_arrets_with_distance['distance_to_selected'] = data_arrets_with_distance.apply(lambda row: calculate_distance((row['coordonnees_lat'], row['coordonnees_lon']), selected_coords), axis=1)\n",
    "\n",
    "    # Sort the DataFrame based on computed distances and select top 10\n",
    "    data_arrets_with_distance_sorted = data_arrets_with_distance.sort_values(by='distance_to_selected', ignore_index=True)[:10]\n",
    "\n",
    "    # Keep useful columns\n",
    "    data_arrets_with_distance_sorted = data_arrets_with_distance_sorted[['arret_code_long', 'nom_arret', 'distance_to_selected']]\n",
    "\n",
    "    # Rename the columns\n",
    "    data_arrets_with_distance_sorted.rename(columns={'arret_code_long': 'Code Arrêt', 'nom_arret': 'Arrêt', 'distance_to_selected': 'Distance (m)'}, inplace=True)\n",
    "\n",
    "    # Round the distance column to 1 decimal place\n",
    "    data_arrets_with_distance_sorted['Distance (m)'] = data_arrets_with_distance_sorted['Distance (m)'].round(1)\n",
    "    \n",
    "    return data_arrets_with_distance_sorted\n",
    "\n",
    "def draw_map_arrets_with_search(event):\n",
    "    searched_address = search_address_widget.value.strip()\n",
    "    place = geocode(searched_address) if searched_address else None\n",
    "    \n",
    "    with out_table:\n",
    "        clear_output()\n",
    "\n",
    "    if place:\n",
    "        coords = [place['lat'], place['lon']]\n",
    "        closest_stops = get_closest_stops(data_arrets_actifs, coords)  \n",
    "        zoom_start = 16\n",
    "    else:\n",
    "        coords = [data_arrets_actifs['coordonnees_lat'].mean(), data_arrets_actifs['coordonnees_lon'].mean()]\n",
    "        closest_stops = None\n",
    "        zoom_start = 12\n",
    "        \n",
    "    m = draw_map_arrets(coords, data_arrets_actifs, zoom_start=zoom_start)\n",
    "\n",
    "    if place:\n",
    "        folium.Marker(\n",
    "            location=coords,\n",
    "            tooltip=place['name'] if place['name'] else place['display_name'],\n",
    "            popup=folium.Popup(place['display_name'], max_width=300)\n",
    "        ).add_to(m)\n",
    "\n",
    "    with out_map:\n",
    "        clear_output(wait=True)\n",
    "        if place:\n",
    "            display(HTML(f\"Adresse sélectionnée :\\n  {place['name'] if place['name'] else place['display_name']}\"))   \n",
    "        display(m)\n",
    "    \n",
    "    with out_table:\n",
    "        if closest_stops is not None:\n",
    "            display(HTML(closest_stops.to_html(index=False)))\n"
   ]
  },
  {
   "cell_type": "code",
   "execution_count": 15,
   "id": "8fc12119-2f85-46e9-a8bb-be5d9edf24ed",
   "metadata": {
    "tags": [
     "body"
    ]
   },
   "outputs": [
    {
     "data": {
      "application/vnd.jupyter.widget-view+json": {
       "model_id": "39ae618a7fb14da0a2bfb2c0af72ee5f",
       "version_major": 2,
       "version_minor": 0
      },
      "text/plain": [
       "HBox(children=(Text(value='', description='Adresse:', layout=Layout(width='50%'), placeholder=\"Entrez l'adress…"
      ]
     },
     "metadata": {},
     "output_type": "display_data"
    },
    {
     "data": {
      "application/vnd.jupyter.widget-view+json": {
       "model_id": "01a06a8e07624bf2b41d31b1c4047ac1",
       "version_major": 2,
       "version_minor": 0
      },
      "text/plain": [
       "Output()"
      ]
     },
     "metadata": {},
     "output_type": "display_data"
    }
   ],
   "source": [
    "search_address_widget = widgets.Text(\n",
    "    placeholder='Entrez l\\'adresse choisie',\n",
    "    description='Adresse:',\n",
    "    disabled=False,\n",
    "    layout=widgets.Layout(width='50%')\n",
    ")\n",
    "\n",
    "button = widgets.Button(description=\"Rechercher\")\n",
    "\n",
    "button.on_click(draw_map_arrets_with_search)\n",
    "search_address_widget.on_submit(draw_map_arrets_with_search)\n",
    "\n",
    "out_map = widgets.Output()\n",
    "out_table = widgets.Output()\n",
    "\n",
    "search_box = widgets.HBox([search_address_widget, button])\n",
    "display(search_box)\n",
    "display(out_map)\n",
    "\n",
    "draw_map_arrets_with_search(None)"
   ]
  },
  {
   "cell_type": "markdown",
   "id": "ef092cb6-cdb3-4c70-83c7-2949da5bb6ea",
   "metadata": {
    "tags": [
     "size=4"
    ]
   },
   "source": [
    "## Column 2"
   ]
  },
  {
   "cell_type": "markdown",
   "id": "d09f4aa5-eb7c-4892-84f8-9154da799379",
   "metadata": {},
   "source": [
    "### Arrêts les plus proches"
   ]
  },
  {
   "cell_type": "code",
   "execution_count": 16,
   "id": "714d2360-8417-4b84-aa74-011a68619385",
   "metadata": {
    "tags": [
     "body"
    ]
   },
   "outputs": [
    {
     "data": {
      "application/vnd.jupyter.widget-view+json": {
       "model_id": "4af2793757004c7d8cbb468ccac616be",
       "version_major": 2,
       "version_minor": 0
      },
      "text/plain": [
       "Output()"
      ]
     },
     "metadata": {},
     "output_type": "display_data"
    }
   ],
   "source": [
    "out_table"
   ]
  }
 ],
 "metadata": {
  "kernelspec": {
   "display_name": "Python 3 (ipykernel)",
   "language": "python",
   "name": "python3"
  },
  "language_info": {
   "codemirror_mode": {
    "name": "ipython",
    "version": 3
   },
   "file_extension": ".py",
   "mimetype": "text/x-python",
   "name": "python",
   "nbconvert_exporter": "python",
   "pygments_lexer": "ipython3",
   "version": "3.10.6"
  }
 },
 "nbformat": 4,
 "nbformat_minor": 5
}
